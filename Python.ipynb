{
  "nbformat": 4,
  "nbformat_minor": 0,
  "metadata": {
    "colab": {
      "name": "Python.ipynb",
      "provenance": [],
      "collapsed_sections": []
    },
    "kernelspec": {
      "name": "python3",
      "display_name": "Python 3"
    },
    "language_info": {
      "name": "python"
    }
  },
  "cells": [
    {
      "cell_type": "markdown",
      "metadata": {
        "id": "KFF_YBkxwR18"
      },
      "source": [
        "Python is a widely used general purpose, interpretable, object oriented and high level programming language which can be used for general purpose programming. It was created by Guido van Rossum, and first released on February 20, 1991. "
      ]
    },
    {
      "cell_type": "markdown",
      "metadata": {
        "id": "mxHMQ0-a6cmJ"
      },
      "source": [
        "Specific Points of Python:\n",
        "1. Python internally converts the source codes into bytecodes and then translated into computer language.\n",
        "2. It's free and open source.\n",
        "3. It can be used within c/c++ to provide scripting capability.\n",
        "4. No need to worry about memory management, it will handlle automatically\n",
        "5. Rich library supoort such as cv2, NLTK, Pillow etc."
      ]
    },
    {
      "cell_type": "markdown",
      "metadata": {
        "id": "v3gXA1qI4yu7"
      },
      "source": [
        "To take a input from user"
      ]
    },
    {
      "cell_type": "code",
      "metadata": {
        "colab": {
          "base_uri": "https://localhost:8080/"
        },
        "id": "6ZrZVfPH41wS",
        "outputId": "a8bcc97a-95e5-4ef6-ca97-4581ef92a9bc"
      },
      "source": [
        "a = input(\"Please enter here....\")"
      ],
      "execution_count": null,
      "outputs": [
        {
          "output_type": "stream",
          "text": [
            "Please enter here....5\n"
          ],
          "name": "stdout"
        }
      ]
    },
    {
      "cell_type": "markdown",
      "metadata": {
        "id": "j2mdUJ5F9fcU"
      },
      "source": [
        "Difference between python2.x and python3.x\n",
        "1. difference in print fucntion\n",
        "2. we can import future library, from which we can write python3 scripting in pyton2 shell also\n",
        "3. xrange function is not present\n"
      ]
    },
    {
      "cell_type": "code",
      "metadata": {
        "colab": {
          "base_uri": "https://localhost:8080/"
        },
        "id": "uglGEPrT45js",
        "outputId": "edb610f0-a538-4a3a-fb4c-cd519fb77436"
      },
      "source": [
        "from __future__ import print_function \n",
        "# even we can write this statement in python2.x \n",
        "print(\"python tutorial\")"
      ],
      "execution_count": null,
      "outputs": [
        {
          "output_type": "stream",
          "text": [
            "python tutorial\n"
          ],
          "name": "stdout"
        }
      ]
    },
    {
      "cell_type": "markdown",
      "metadata": {
        "id": "frDDA1ch--CS"
      },
      "source": [
        "Keywords:\n",
        "1. None - denote a snull value or void, it can't be 0 or empty container(empty list)\n",
        "2. not, or, and  - logical operator\n",
        "3. assert - this is used for checking purpose in the sciprt to raise assertion error if a statement evaluated false\n",
        "4. break - break out of the loop\n",
        "5. continue - skip the iteration but don't break the loop\n",
        "6. del - del is used to delete areferance to an object. \n",
        "7. try, except, finally - handle the errors\n",
        "8. raise - to raise error in descriptive way\n",
        "9. pass - null statement, nothing happens when it encounters\n",
        "10. lambda - anonymas function defined using the lambda\n",
        "11. yield - it suspends functions current execution and returns value but retains enough state resume the function state where it's let off.\n",
        "12. global - this is used to define a variable inside the function to be global in the code\n",
        "13. non-local - this si similar to global keyword, but it is used in nested function. "
      ]
    },
    {
      "cell_type": "code",
      "metadata": {
        "colab": {
          "base_uri": "https://localhost:8080/"
        },
        "id": "6xSLbwzC9_Ur",
        "outputId": "e0756c8e-99f3-44fb-f5c0-f4e052f300af"
      },
      "source": [
        "#assert\n",
        "assert 5 < 8, \"this statment is correct\"\n",
        "#del\n",
        "a = [1, 3, 6]\n",
        "del a[1]\n",
        "print(a)\n",
        "\n",
        "#error handling\n",
        "try:\n",
        "  a = 5/0\n",
        "  b = [7, 8, 2]\n",
        "  #print(b[4])\n",
        "except (ZeroDivisionError, IndexError):\n",
        "  print(\"can't divide by zero\")\n",
        "else:\n",
        "  print(\"there can be index error\")\n",
        "finally:\n",
        "  print(\"this will always execute\")\n",
        "\n",
        "#for lambda function\n",
        "square = lambda x: x * x\n",
        "print(\"square:\", square(5))\n",
        "\n",
        "num_list = [1, 5, 4, 6, 8, 11, 3, 12]\n",
        "square_list = list(map(lambda x: x * x , num_list))\n",
        "print(square_list)\n",
        "\n",
        "#yield\n",
        "def simpleYieldFun():\n",
        "    yield 'How'\n",
        "    yield 'are'\n",
        "    yield 'you'\n",
        "\n",
        "for value in simpleYieldFun():\n",
        "  print(\"value:\", value)\n",
        "\n",
        "#non-local\n",
        "print (\"Value of a using nonlocal is : \",end=\"\")\n",
        "def outer():\n",
        "    a = 5\n",
        "    def inner():\n",
        "        nonlocal a\n",
        "        a = 10\n",
        "    inner()\n",
        "    print (a)\n",
        " \n",
        "outer()"
      ],
      "execution_count": null,
      "outputs": [
        {
          "output_type": "stream",
          "text": [
            "[1, 6]\n",
            "can't divide by zero\n",
            "this will always execute\n",
            "square: 25\n",
            "[1, 25, 16, 36, 64, 121, 9, 144]\n",
            "value: How\n",
            "value: are\n",
            "value: you\n",
            "Value of a using nonlocal is : 10\n"
          ],
          "name": "stdout"
        }
      ]
    },
    {
      "cell_type": "markdown",
      "metadata": {
        "id": "xJ1KI6pq9nXv"
      },
      "source": [
        "Namespace : consist two words, name and Space, Name corresponds to a variable or method name and scope corresponds to the access a variable or method"
      ]
    },
    {
      "cell_type": "code",
      "metadata": {
        "colab": {
          "base_uri": "https://localhost:8080/"
        },
        "id": "d83x2nUgbRk6",
        "outputId": "8db186bc-5a81-4755-b84a-bb8f34f3bde6"
      },
      "source": [
        "#in this function we have to use global keyword fior count otherwise it will throw error\n",
        "a = 2\n",
        "def check_scope():\n",
        "    global a\n",
        "    a = a + 1\n",
        "    print(a)\n",
        "check_scope()\n"
      ],
      "execution_count": null,
      "outputs": [
        {
          "output_type": "stream",
          "text": [
            "3\n"
          ],
          "name": "stdout"
        }
      ]
    },
    {
      "cell_type": "markdown",
      "metadata": {
        "id": "Em1Hxwmk_gbR"
      },
      "source": [
        "Statement- when programmer needs to write a single sentence in muultiple lines then we can use \\                                                                                                                                                                       "
      ]
    },
    {
      "cell_type": "code",
      "metadata": {
        "colab": {
          "base_uri": "https://localhost:8080/"
        },
        "id": "Yq-IejbN-E7n",
        "outputId": "61206e18-8b3e-4782-c262-b104d6ad34b1"
      },
      "source": [
        "#Declared using Continuation Character (\\):\n",
        "s = 1 + 2 + 3 + \\\n",
        "    4 + 5 + 6 \n",
        "print(s)\n",
        "#Declared using square brackets [] :\n",
        "word_list = ['how',\n",
        "          'are',\n",
        "          'you']\n",
        "print(word_list)\n",
        "#Declared using braces {} :\n",
        "x = {1 + 2 + 3 + \n",
        "     4 + 5 + 6}\n",
        "print(x)"
      ],
      "execution_count": null,
      "outputs": [
        {
          "output_type": "stream",
          "text": [
            "21\n",
            "['how', 'are', 'you']\n",
            "{21}\n"
          ],
          "name": "stdout"
        }
      ]
    },
    {
      "cell_type": "code",
      "metadata": {
        "colab": {
          "base_uri": "https://localhost:8080/"
        },
        "id": "013AQbmKMw49",
        "outputId": "133dbf9c-0b08-4000-cb68-02fbb521b63b"
      },
      "source": [
        "# print in continiuation line with two print statement\n",
        "print(\"Hey\", end =\" \")\n",
        "print(\"python\")"
      ],
      "execution_count": null,
      "outputs": [
        {
          "output_type": "stream",
          "text": [
            "Hey python\n"
          ],
          "name": "stdout"
        }
      ]
    },
    {
      "cell_type": "code",
      "metadata": {
        "colab": {
          "base_uri": "https://localhost:8080/"
        },
        "id": "H4opHbjKO2GD",
        "outputId": "e085a2d2-0692-486e-cea7-60ed4ac336e4"
      },
      "source": [
        "#shorthad if statement\n",
        "age = 20\n",
        "if age < 25: print(\"he is a young person.\")"
      ],
      "execution_count": null,
      "outputs": [
        {
          "output_type": "stream",
          "text": [
            "he is a young person.\n"
          ],
          "name": "stdout"
        }
      ]
    },
    {
      "cell_type": "markdown",
      "metadata": {
        "id": "6JBIm49LHzpB"
      },
      "source": [
        "input : takes user input, whatever takes input convets it into string, in example a would be string.\n",
        "\n",
        "raw_input : used in python 2.x and convert everi item into string\n",
        "\n",
        "input().split() : you can take multiple inputs from user"
      ]
    },
    {
      "cell_type": "code",
      "metadata": {
        "colab": {
          "base_uri": "https://localhost:8080/"
        },
        "id": "aVUc781gPNsm",
        "outputId": "dcf67d7d-4824-4a21-b9cf-9c1e2183a6c3"
      },
      "source": [
        "a = input(\"enter your number:\")"
      ],
      "execution_count": null,
      "outputs": [
        {
          "output_type": "stream",
          "text": [
            "enter your number:6\n"
          ],
          "name": "stdout"
        }
      ]
    },
    {
      "cell_type": "code",
      "metadata": {
        "colab": {
          "base_uri": "https://localhost:8080/"
        },
        "id": "d6HE6ApVIDLr",
        "outputId": "c7c8fd7c-1af0-486a-f5b4-b9eb75aba4ce"
      },
      "source": [
        "x, y = input(\"enter x an y value========\").split()"
      ],
      "execution_count": null,
      "outputs": [
        {
          "output_type": "stream",
          "text": [
            "enter x an y value========78 9\n"
          ],
          "name": "stdout"
        }
      ]
    },
    {
      "cell_type": "markdown",
      "metadata": {
        "id": "QSWHV7z6M0B9"
      },
      "source": [
        "print : \\n, can be used for next line even inside string "
      ]
    },
    {
      "cell_type": "code",
      "metadata": {
        "colab": {
          "base_uri": "https://localhost:8080/"
        },
        "id": "uATd04bFKoPz",
        "outputId": "2ea68444-34e9-46c1-bf0d-947a7c4c9cfd"
      },
      "source": [
        "print(\"hey \\npython geeks\")\n",
        "\n",
        "\n",
        "# using end argument\n",
        "print(\"hey\", end = '@') \n",
        "print(\"python)\n",
        "\n",
        "#seperator\n",
        "#for formatting a date\n",
        "print('15','09','1995', sep='-')"
      ],
      "execution_count": null,
      "outputs": [
        {
          "output_type": "stream",
          "text": [
            "hey \n",
            "python geeks\n",
            "hey@python\n",
            "15-09-1995\n"
          ],
          "name": "stdout"
        }
      ]
    },
    {
      "cell_type": "markdown",
      "metadata": {
        "id": "F4ysGxbkiLzf"
      },
      "source": [
        "String - String with the triple quotes(we can create string with triple quotes)\n",
        "\n",
        "Formatting of strings : we can add placeholders in the strings to print the statement."
      ]
    },
    {
      "cell_type": "code",
      "metadata": {
        "id": "Vt647VMeNDlL",
        "colab": {
          "base_uri": "https://localhost:8080/"
        },
        "outputId": "996903c7-f993-4ccf-ed57-fc9828810a44"
      },
      "source": [
        "a = ''' don't go outside in \"lucknow\"'''\n",
        "print(\"string with triple quotes: \")\n",
        "print(a)\n",
        "print('\\n')\n",
        "# Default order\n",
        "String1 = \"{} {}\".format('Python', 'Learner')\n",
        "print(\"Print String in default order: \")\n",
        "print(String1)\n",
        "  \n",
        "# Positional Formatting\n",
        "String1 = \"{1} {0}\".format('Python', 'Learner')\n",
        "print(\"\\nPrint String in Positional order: \")\n",
        "print(String1)\n",
        "  \n",
        "# Keyword Formatting\n",
        "String1 = \"{l} {f}\".format(f = 'Learner', l = 'Python')\n",
        "print(\"\\nPrint String in order of Keywords: \")\n",
        "print(String1)\n",
        "\n",
        "# Formatting of Integers\n",
        "String1 = \"{0:b}\".format(32)\n",
        "print(\"\\nBinary representation of 32 is \")\n",
        "print(String1)"
      ],
      "execution_count": null,
      "outputs": [
        {
          "output_type": "stream",
          "text": [
            "string with triple quotes: \n",
            " don't go outside in \"lucknow\"\n",
            "\n",
            "\n",
            "Print String in default order: \n",
            "Python Learner\n",
            "\n",
            "Print String in Positional order: \n",
            "Learner Python\n",
            "\n",
            "Print String in order of Keywords: \n",
            "Python Learner\n",
            "\n",
            "Binary representation of 32 is \n",
            "100000\n"
          ],
          "name": "stdout"
        }
      ]
    },
    {
      "cell_type": "markdown",
      "metadata": {
        "id": "KGDQbIuyq92-"
      },
      "source": [
        "Tuple Concatenation : we can concatenate tuples by using +\n",
        "\n",
        "Tuples are immutable so we can't delete an item, we can delete all tuple "
      ]
    },
    {
      "cell_type": "code",
      "metadata": {
        "colab": {
          "base_uri": "https://localhost:8080/"
        },
        "id": "mosowIdYitqf",
        "outputId": "83cd4891-49f2-49f2-e6a3-8136ee30c3b0"
      },
      "source": [
        "a = (9, 5, 3)\n",
        "b = ('start', 'python')\n",
        "c =a+b\n",
        "print(c)"
      ],
      "execution_count": null,
      "outputs": [
        {
          "output_type": "stream",
          "text": [
            "(9, 5, 3, 'start', 'python')\n"
          ],
          "name": "stdout"
        }
      ]
    },
    {
      "cell_type": "markdown",
      "metadata": {
        "id": "UG5qB5rusfy4"
      },
      "source": [
        "Set: it containes only unique elments.\n",
        "add a element in a set by using add function\n",
        "\n",
        "Some set functions:\n",
        "\n",
        "difference_update()\tRemoves all elements of another set from this set\n",
        "\n",
        "intersection()\tReturns the intersection of two sets as a new set\n",
        "\n",
        "isdisjoint()\tReturns True if two sets have a null intersection\n",
        "\n",
        "issubset()\tReturns True if another set contains this set\n",
        "\n",
        "issuperset()\tReturns True if this set contains another set\n",
        "\n",
        "difference()\tReturns the difference of two or more sets as a new set\n",
        "\n",
        "union()\tReturns the union of sets in a new set\n"
      ]
    },
    {
      "cell_type": "code",
      "metadata": {
        "colab": {
          "base_uri": "https://localhost:8080/"
        },
        "id": "gaa89vw4qutz",
        "outputId": "5cf8f525-f8a1-4f17-a8a8-a53e4d51c5c3"
      },
      "source": [
        "set1 = set()\n",
        "set1.add(10)\n",
        "set1.add(5)\n",
        "set1.add('hello')\n",
        "set1.add((8, 7))\n",
        "print(set1)"
      ],
      "execution_count": null,
      "outputs": [
        {
          "output_type": "stream",
          "text": [
            "{'hello', 10, 5, (8, 7)}\n"
          ],
          "name": "stdout"
        }
      ]
    },
    {
      "cell_type": "markdown",
      "metadata": {
        "id": "zRgTh7cewf9m"
      },
      "source": [
        "Array: collections of item at contagious memory locations, in array same datatype object coontaines so we can allocate contagious memory location.\n",
        "\n",
        "In list there is no restriction on datatype os items in the list, but in array items should be same datatypes\n",
        "\n",
        "In array we have to assign dataypes also, for integer = i, for floates = d\n",
        "\n",
        "other functionalities is same as list, functionds to add eelemnt and del element or slicing is same as list\n"
      ]
    },
    {
      "cell_type": "code",
      "metadata": {
        "colab": {
          "base_uri": "https://localhost:8080/"
        },
        "id": "FJV-bhyZs-Lm",
        "outputId": "5fee2a4a-7d4b-4711-8b8f-ae9493825011"
      },
      "source": [
        "# importing \"array\" for array creations\n",
        "import array as arr\n",
        "  \n",
        "# creating an array with integer type\n",
        "a = arr.array('i', [1, 2, 3])\n",
        "\n",
        "# printing original array\n",
        "print (\"The new created array is : \", end =\" \")\n",
        "for i in range (0, 3):\n",
        "    print (a[i], end =\" \")"
      ],
      "execution_count": null,
      "outputs": [
        {
          "output_type": "stream",
          "text": [
            "The new created array is :  1 2 3 "
          ],
          "name": "stdout"
        }
      ]
    },
    {
      "cell_type": "markdown",
      "metadata": {
        "id": "-SBJsIMYx7nG"
      },
      "source": [
        "**Variables:**\n",
        "In Python, value of an integer is not restricted by the number of bits and can expand to the limit of the available memory."
      ]
    },
    {
      "cell_type": "markdown",
      "metadata": {
        "id": "NrYmJUlsypmr"
      },
      "source": [
        "**Return sends a specified value back to its caller whereas Yield can produce a sequence of values. **"
      ]
    },
    {
      "cell_type": "code",
      "metadata": {
        "id": "BJ-lLbYnxYTi",
        "colab": {
          "base_uri": "https://localhost:8080/"
        },
        "outputId": "dce6738f-6427-4876-b151-0ace62f02086"
      },
      "source": [
        "#yield\n",
        "def addition():\n",
        "  i  = 0\n",
        "  while True:\n",
        "    yield i+i\n",
        "    print(i)\n",
        "    i = i+1\n",
        "for item in addition():\n",
        "  print(\"item:\", item)\n",
        "  if item > 8:\n",
        "    break\n",
        "  \n",
        "\n"
      ],
      "execution_count": null,
      "outputs": [
        {
          "output_type": "stream",
          "text": [
            "item: 0\n",
            "0\n",
            "item: 2\n",
            "1\n",
            "item: 4\n",
            "2\n",
            "item: 6\n",
            "3\n",
            "item: 8\n",
            "4\n",
            "item: 10\n"
          ],
          "name": "stdout"
        }
      ]
    },
    {
      "cell_type": "markdown",
      "metadata": {
        "id": "XliQDnO991ql"
      },
      "source": [
        "--trunc : remove the decimal part\n",
        "--ceil : get the integer(2.76- > 3)\n",
        "--floor : get the integer(2.76- > 2)"
      ]
    },
    {
      "cell_type": "markdown",
      "metadata": {
        "id": "C8p7W9FULX0P"
      },
      "source": [
        "*args : The special syntax *args in function definitions in python is used to pass a variable number of arguments to a function.\n",
        "\n",
        "arg : it's a single variable of argument to a function.\n",
        "\n",
        "**kwargs : The special syntax **kwargs in function definitions in python is used to pass a keyworded, variable-length argument list. We use the name kwargs with the double star. We use the name kwargs with the double star. The reason is because the double star allows us to pass through keyword arguments.\n",
        "\n"
      ]
    },
    {
      "cell_type": "code",
      "metadata": {
        "colab": {
          "base_uri": "https://localhost:8080/"
        },
        "id": "gpcjeOtAy52D",
        "outputId": "22d6e95c-ecee-433a-b50e-699dce2860b9"
      },
      "source": [
        "def argFun(arg1, *argv):\n",
        "    print (\"First parametr arg1:\", arg1)\n",
        "    for arg in argv:\n",
        "        print(\"Next parameter *argv :\", arg)\n",
        "  \n",
        "argFun('Hello', 'Welcome', 'to', 'GeeksforGeeks')\n",
        "\n",
        "######################################\n",
        "def argFun(**kwargs): \n",
        "    for key, value in kwargs.items():\n",
        "        print (key, \"==\", value)\n",
        "  \n",
        "# Driver code\n",
        "argFun(first ='Geeks', mid ='for', last='Geeks')  "
      ],
      "execution_count": null,
      "outputs": [
        {
          "output_type": "stream",
          "text": [
            "First parametr arg1: Hello\n",
            "Next parameter *argv : Welcome\n",
            "Next parameter *argv : to\n",
            "Next parameter *argv : GeeksforGeeks\n",
            "first == Geeks\n",
            "mid == for\n",
            "last == Geeks\n"
          ],
          "name": "stdout"
        }
      ]
    },
    {
      "cell_type": "markdown",
      "metadata": {
        "id": "z_bGkQEZQ1Df"
      },
      "source": [
        "A decorator is a function that takes a function as its only parameter and returns a function. This is helpful to “wrap” functionality with the same code over and over again."
      ]
    },
    {
      "cell_type": "code",
      "metadata": {
        "colab": {
          "base_uri": "https://localhost:8080/"
        },
        "id": "mmx3sAGVMGvB",
        "outputId": "1bfe4930-90bb-4ced-c638-490ca0a40e3f"
      },
      "source": [
        "# Adds a welcome message to the string\n",
        "# returned by fun(). Takes fun() as\n",
        "# parameter and returns welcome().\n",
        "def decorate_message(fun):\n",
        "  \n",
        "    # Nested function\n",
        "    def addWelcome(site_name):\n",
        "        return \"Welcome to \" + fun(site_name)\n",
        "  \n",
        "    # Decorator returns a function\n",
        "    return addWelcome\n",
        "  \n",
        "@decorate_message #to call the above function\n",
        "def site(site_name):\n",
        "    return site_name;\n",
        "  \n",
        "# Driver code\n",
        "  \n",
        "# This call is equivalent to call to\n",
        "# decorate_message() with function\n",
        "# site(\"GeeksforGeeks\") as parameter\n",
        "print(site(\"GeeksforGeeks\"))"
      ],
      "execution_count": null,
      "outputs": [
        {
          "output_type": "stream",
          "text": [
            "Welcome to GeeksforGeeks\n"
          ],
          "name": "stdout"
        }
      ]
    },
    {
      "cell_type": "markdown",
      "metadata": {
        "id": "FnLDwuQhReun"
      },
      "source": [
        "Decorators are very powerful and useful tool in Python since it allows programmers to modify the behavior of function or class. Decorators allow us to wrap another function in order to extend the behavior of the wrapped function. \n",
        "\n",
        "\n",
        "In Python, functions are first class objects that means that functions in Python can be used or passed as arguments.\n",
        "\n",
        "Properties of first class functions:\n",
        "\n",
        "A function is an instance of the Object type.\n",
        "You can store the function in a variable.\n",
        "You can pass the function as a parameter to another function.\n",
        "You can return the function from a function.\n",
        "You can store them in data structures such as hash tables, lists, …"
      ]
    },
    {
      "cell_type": "code",
      "metadata": {
        "colab": {
          "base_uri": "https://localhost:8080/"
        },
        "id": "z-3iAHYvRAtB",
        "outputId": "f6e5fab3-eb61-4c72-fbe2-6ba36f15e0e5"
      },
      "source": [
        "### functions as a object\n",
        "def shout(text): \n",
        "    return text.upper() \n",
        "  \n",
        "print(shout('Hello')) \n",
        "  \n",
        "yell = shout \n",
        "  \n",
        "print(yell('Hello')) \n",
        "\n",
        "\n",
        "#####################################\n",
        "# Python program to as a parameter\n",
        "def shout(text): \n",
        "    return text.upper() \n",
        "  \n",
        "def whisper(text): \n",
        "    return text.lower() \n",
        "  \n",
        "def greet(func): \n",
        "    # storing the function in a variable \n",
        "    greeting = func(\"\"\"Hi, I am created by a function passed as an argument.\"\"\") \n",
        "    print (greeting) \n",
        "  \n",
        "greet(shout) \n",
        "greet(whisper) \n",
        "\n",
        "\n",
        "#######################################\n",
        "# Python program to illustrate functions \n",
        "# Functions can return another function \n",
        "  \n",
        "def create_adder(x): \n",
        "    def adder(y): \n",
        "        return x+y \n",
        "  \n",
        "    return adder \n",
        "  \n",
        "add_15 = create_adder(15) \n",
        "  \n",
        "print(add_15(10)) "
      ],
      "execution_count": null,
      "outputs": [
        {
          "output_type": "stream",
          "text": [
            "HELLO\n",
            "HELLO\n",
            "HI, I AM CREATED BY A FUNCTION PASSED AS AN ARGUMENT.\n",
            "hi, i am created by a function passed as an argument.\n"
          ],
          "name": "stdout"
        }
      ]
    },
    {
      "cell_type": "markdown",
      "metadata": {
        "id": "AaWURNyuZFwH"
      },
      "source": [
        "# **OOPS**"
      ]
    },
    {
      "cell_type": "markdown",
      "metadata": {
        "id": "zyXU0YQ3ZkjO"
      },
      "source": [
        "Attributes are always public and can be accessed using dot (.) operator."
      ]
    },
    {
      "cell_type": "code",
      "metadata": {
        "colab": {
          "base_uri": "https://localhost:8080/"
        },
        "id": "YskIaZHbTHex",
        "outputId": "7806b03c-7210-4d41-aff9-a3d463d59b88"
      },
      "source": [
        "class testing:\n",
        "  age = 20\n",
        "  name = 'Jack'\n",
        "\n",
        "def main():\n",
        "  print(testing.name, \"age is \", testing.age)\n",
        "\n",
        "if __name__ == '__main__':\n",
        "  main()\n"
      ],
      "execution_count": null,
      "outputs": [
        {
          "output_type": "stream",
          "text": [
            "Jack age is  20\n"
          ],
          "name": "stdout"
        }
      ]
    },
    {
      "cell_type": "markdown",
      "metadata": {
        "id": "3-xVpFtjajII"
      },
      "source": [
        "All methods require ‘self’ parameter. If you have coded in other OOP language you can think of ‘self’ as the ‘this’ keyword which is used for the current object. It unhides the current instance variable.’self’ mostly work like ‘this’."
      ]
    },
    {
      "cell_type": "code",
      "metadata": {
        "colab": {
          "base_uri": "https://localhost:8080/"
        },
        "id": "bB8o2bCqaEQx",
        "outputId": "71030557-8c23-41c2-9d83-62f85e43ffea"
      },
      "source": [
        "class testing1:\n",
        "  def add(self, x, y):\n",
        "    self.x = x\n",
        "    self.y = y\n",
        "    return (x+y)\n",
        "\n",
        "adder = testing1()\n",
        "sum = adder.add(4, 6)\n",
        "print(\"sum:\", sum)"
      ],
      "execution_count": null,
      "outputs": [
        {
          "output_type": "stream",
          "text": [
            "sum: 10\n"
          ],
          "name": "stdout"
        }
      ]
    },
    {
      "cell_type": "markdown",
      "metadata": {
        "id": "I0sI0OeZ-p1d"
      },
      "source": [
        "Class: A class is a blueprint that defines the variables and the methods (Characteristics) common to all objects of a certain kind.\n",
        "\n",
        "The self : Class methods must have an extra first parameter in the method definition. We do not give a value for this parameter when we call the method, Python provides it. If we have a method that takes no arguments, then we still have to have one argument – the self. See fun() in the above simple example This is similar to this pointer in C++ and this reference in Java.\n",
        "\n",
        "The __init__ method : It is similar to constructors(used for instantiating an object. The task of constructors is to initialize(assign values) to the data members of the class when an object of class is created) in C++ and Java. It is run as soon as an object of a class is instantiated. The method is useful to do any initialization you want to do with your object. \n",
        "\n",
        "Object of a class:"
      ]
    },
    {
      "cell_type": "code",
      "metadata": {
        "id": "idsYebRzbcnR",
        "colab": {
          "base_uri": "https://localhost:8080/"
        },
        "outputId": "35abd130-d3b2-4756-8db7-d0904aabe4ac"
      },
      "source": [
        "# A simple example class\n",
        "class simple:\n",
        "     \n",
        "    # A sample method\n",
        "    def check(self):\n",
        "        print(\"Test methods\")\n",
        " \n",
        "# Driver code\n",
        "obj = simple()\n",
        "obj.check()\n",
        "\n",
        "# A Sample class with init method\n",
        "class test:\n",
        " \n",
        "    # init method or constructor\n",
        "    def __init__(self, name):\n",
        "        self.name = name\n",
        " \n",
        "    # Sample Method\n",
        "    def testing(self):\n",
        "        print('Hello, my name is', self.name)\n",
        " \n",
        "p = test('python')\n",
        "p.testing()"
      ],
      "execution_count": null,
      "outputs": [
        {
          "output_type": "stream",
          "text": [
            "Test methods\n",
            "Hello, my name is python\n"
          ],
          "name": "stdout"
        }
      ]
    },
    {
      "cell_type": "markdown",
      "metadata": {
        "id": "noox2AZtFm3t"
      },
      "source": [
        "We can define instance variables inside normal methods also. We can instantiate variables in class and methods inside class."
      ]
    },
    {
      "cell_type": "code",
      "metadata": {
        "colab": {
          "base_uri": "https://localhost:8080/"
        },
        "id": "COMRzRSu-sO4",
        "outputId": "c3f69421-097c-48d0-cb33-3cfba7242efe"
      },
      "source": [
        "# Class for Computer Science Student\n",
        "class CSStudent:\n",
        "     \n",
        "    # Class Variable\n",
        "    stream = 'cse'     \n",
        "     \n",
        "    # The init method or constructor\n",
        "    def __init__(self, roll):\n",
        "         \n",
        "        # Instance Variable\n",
        "        self.roll = roll           \n",
        " \n",
        "    # Adds an instance variable\n",
        "    def setAddress(self, address):\n",
        "        self.address = address\n",
        "     \n",
        "    # Retrieves instance variable   \n",
        "    def getAddress(self):   \n",
        "        return self.address  \n",
        " \n",
        "# Driver Code\n",
        "a = CSStudent(101)\n",
        "a.setAddress(\"Noida, UP\")\n",
        "print(a.getAddress())"
      ],
      "execution_count": null,
      "outputs": [
        {
          "output_type": "stream",
          "text": [
            "Noida, UP\n"
          ],
          "name": "stdout"
        }
      ]
    },
    {
      "cell_type": "markdown",
      "metadata": {
        "id": "-BI5FcUcLXpJ"
      },
      "source": [
        "Hidden Vaiables : we use double underscore (Or __) before the attributes name and those attributes will not be directly visible outside. We can't acces the variable outside of class, In the script, print sttament is throwing an error for the same."
      ]
    },
    {
      "cell_type": "code",
      "metadata": {
        "colab": {
          "base_uri": "https://localhost:8080/",
          "height": 231
        },
        "id": "MhfJxd50Fs9s",
        "outputId": "be712d3a-1156-4dd0-efa7-cfe46df806a1"
      },
      "source": [
        "class MyClass:\n",
        "  \n",
        "    # Hidden member of MyClass\n",
        "    __hiddenVariable = 0\n",
        "    \n",
        "    # A member method that changes \n",
        "    # __hiddenVariable \n",
        "    def add(self, increment):\n",
        "        self.__hiddenVariable += increment\n",
        "        print (self.__hiddenVariable)\n",
        "   \n",
        "# Driver code\n",
        "myObject = MyClass()     \n",
        "myObject.add(2)\n",
        "myObject.add(5)\n",
        "  \n",
        "# This line causes error\n",
        "print (myObject.__hiddenVariable)"
      ],
      "execution_count": null,
      "outputs": [
        {
          "output_type": "stream",
          "text": [
            "2\n",
            "7\n"
          ],
          "name": "stdout"
        },
        {
          "output_type": "error",
          "ename": "AttributeError",
          "evalue": "ignored",
          "traceback": [
            "\u001b[0;31m---------------------------------------------------------------------------\u001b[0m",
            "\u001b[0;31mAttributeError\u001b[0m                            Traceback (most recent call last)",
            "\u001b[0;32m<ipython-input-5-951e3544a163>\u001b[0m in \u001b[0;36m<module>\u001b[0;34m()\u001b[0m\n\u001b[1;32m     16\u001b[0m \u001b[0;34m\u001b[0m\u001b[0m\n\u001b[1;32m     17\u001b[0m \u001b[0;31m# This line causes error\u001b[0m\u001b[0;34m\u001b[0m\u001b[0;34m\u001b[0m\u001b[0;34m\u001b[0m\u001b[0m\n\u001b[0;32m---> 18\u001b[0;31m \u001b[0mprint\u001b[0m \u001b[0;34m(\u001b[0m\u001b[0mmyObject\u001b[0m\u001b[0;34m.\u001b[0m\u001b[0m__hiddenVariable\u001b[0m\u001b[0;34m)\u001b[0m\u001b[0;34m\u001b[0m\u001b[0;34m\u001b[0m\u001b[0m\n\u001b[0m",
            "\u001b[0;31mAttributeError\u001b[0m: 'MyClass' object has no attribute '__hiddenVariable'"
          ]
        }
      ]
    },
    {
      "cell_type": "markdown",
      "metadata": {
        "id": "JGfnyDx2CJyk"
      },
      "source": [
        "Inheritence between the class: "
      ]
    },
    {
      "cell_type": "code",
      "metadata": {
        "colab": {
          "base_uri": "https://localhost:8080/"
        },
        "id": "XXNMkFKbLexT",
        "outputId": "ded5eb6a-32ef-4880-9ace-b8b2139602d7"
      },
      "source": [
        "# equivalent to \"class Person(object)\"\n",
        "class Person(object):\n",
        "      \n",
        "    # Constructor\n",
        "    def __init__(self, name):\n",
        "        self.name = name\n",
        "  \n",
        "    # To get name\n",
        "    def getName(self):\n",
        "        return self.name\n",
        "  \n",
        "    # To check if this person is employee\n",
        "    def isEmployee(self):\n",
        "        return False\n",
        "  \n",
        "  \n",
        "# Inherited or Sub class (Note Person in bracket)\n",
        "class Employee(Person):\n",
        "  \n",
        "    # Here we return true\n",
        "    def isEmployee(self):\n",
        "        return True\n",
        "  \n",
        "# Driver code\n",
        "emp = Person(\"Geek1\")  # An Object of Person\n",
        "print(emp.getName(), emp.isEmployee())\n",
        "  \n",
        "emp = Employee(\"Geek2\") # An Object of Employee\n",
        "print(emp.getName(), emp.isEmployee())"
      ],
      "execution_count": null,
      "outputs": [
        {
          "output_type": "stream",
          "text": [
            "Geek1 False\n",
            "Geek2 True\n"
          ],
          "name": "stdout"
        }
      ]
    },
    {
      "cell_type": "markdown",
      "metadata": {
        "id": "CF2QCf2MEjKx"
      },
      "source": [
        "Polymorphism :  The word polymorphism means having many forms. In programming, polymorphism means same function name (but different signatures) being uses for different types."
      ]
    },
    {
      "cell_type": "code",
      "metadata": {
        "colab": {
          "base_uri": "https://localhost:8080/"
        },
        "id": "RK_3nSJyCOo7",
        "outputId": "e3874416-5fa9-4b35-e8f7-94e6af858cf5"
      },
      "source": [
        "class India():\n",
        "    def capital(self):\n",
        "        print(\"New Delhi is the capital of India.\")\n",
        "  \n",
        "    def language(self):\n",
        "        print(\"Hindi is the most widely spoken language of India.\")\n",
        "  \n",
        "    def type(self):\n",
        "        print(\"India is a developing country.\")\n",
        "  \n",
        "class USA():\n",
        "    def capital(self):\n",
        "        print(\"Washington, D.C. is the capital of USA.\")\n",
        "  \n",
        "    def language(self):\n",
        "        print(\"English is the primary language of USA.\")\n",
        "  \n",
        "    def type(self):\n",
        "        print(\"USA is a developed country.\")\n",
        "  \n",
        "obj_ind = India()\n",
        "obj_usa = USA()\n",
        "for country in (obj_ind, obj_usa):\n",
        "    country.capital()\n",
        "    country.language()\n",
        "    country.type()"
      ],
      "execution_count": null,
      "outputs": [
        {
          "output_type": "stream",
          "text": [
            "New Delhi is the capital of India.\n",
            "Hindi is the most widely spoken language of India.\n",
            "India is a developing country.\n",
            "Washington, D.C. is the capital of USA.\n",
            "English is the primary language of USA.\n",
            "USA is a developed country.\n"
          ],
          "name": "stdout"
        }
      ]
    },
    {
      "cell_type": "markdown",
      "metadata": {
        "id": "O0leIWthFtdY"
      },
      "source": [
        "Polymorphism with inheritence:"
      ]
    },
    {
      "cell_type": "code",
      "metadata": {
        "colab": {
          "base_uri": "https://localhost:8080/"
        },
        "id": "gBuP1TuTEpx6",
        "outputId": "115be298-706a-464f-eeaa-8e92dfa4c349"
      },
      "source": [
        "class Bird:\n",
        "  def intro(self):\n",
        "    print(\"There are many types of birds.\")\n",
        "      \n",
        "  def flight(self):\n",
        "    print(\"Most of the birds can fly but some cannot.\")\n",
        "    \n",
        "class sparrow(Bird):\n",
        "  def flight(self):\n",
        "    print(\"Sparrows can fly.\")\n",
        "      \n",
        "class ostrich(Bird):\n",
        "  def flight(self):\n",
        "    print(\"Ostriches cannot fly.\")\n",
        "      \n",
        "obj_bird = Bird()\n",
        "obj_spr = sparrow()\n",
        "obj_ost = ostrich()\n",
        "  \n",
        "obj_bird.intro()\n",
        "obj_bird.flight()\n",
        "  \n",
        "obj_spr.intro()\n",
        "obj_spr.flight()\n",
        "  \n",
        "obj_ost.intro()\n",
        "obj_ost.flight()"
      ],
      "execution_count": null,
      "outputs": [
        {
          "output_type": "stream",
          "text": [
            "There are many types of birds.\n",
            "Most of the birds can fly but some cannot.\n",
            "There are many types of birds.\n",
            "Sparrows can fly.\n",
            "There are many types of birds.\n",
            "Ostriches cannot fly.\n"
          ],
          "name": "stdout"
        }
      ]
    },
    {
      "cell_type": "markdown",
      "metadata": {
        "id": "fu_-N-X-IiHH"
      },
      "source": [
        "Static Variable: in defining the class we can aslo define the static variable which is going to constant for other objects of class,"
      ]
    },
    {
      "cell_type": "code",
      "metadata": {
        "colab": {
          "base_uri": "https://localhost:8080/"
        },
        "id": "aj0N1Os2FzS5",
        "outputId": "92fb03a5-ea67-460a-f434-ba7bbb3b6d36"
      },
      "source": [
        "# Class for Computer Science Student\n",
        "class CSStudent:\n",
        "    stream = 'cse'                  # Class Variable\n",
        "    def __init__(self,name,roll):\n",
        "        self.name = name            # Instance Variable\n",
        "        self.roll = roll            # Instance Variable\n",
        "  \n",
        "# Objects of CSStudent class\n",
        "a = CSStudent('Geek', 1)\n",
        "b = CSStudent('Nerd', 2)\n",
        "  \n",
        "print(a.stream)  # prints \"cse\"\n",
        "print(b.stream)  # prints \"cse\"\n",
        "print(a.name)    # prints \"Geek\"\n",
        "print(b.name)    # prints \"Nerd\"\n",
        "print(a.roll)    # prints \"1\"\n",
        "print(b.roll)    # prints \"2\"\n",
        "  "
      ],
      "execution_count": null,
      "outputs": [
        {
          "output_type": "stream",
          "text": [
            "cse\n",
            "cse\n",
            "Geek\n",
            "Nerd\n",
            "1\n",
            "2\n"
          ],
          "name": "stdout"
        }
      ]
    },
    {
      "cell_type": "markdown",
      "metadata": {
        "id": "qTujBUR2L2Vv"
      },
      "source": [
        "Desctructores:  In Python, destructors are not needed as much needed in C++ because Python has a garbage collector that handles memory management automatically."
      ]
    },
    {
      "cell_type": "code",
      "metadata": {
        "colab": {
          "base_uri": "https://localhost:8080/"
        },
        "id": "QYY0RPRIJB0N",
        "outputId": "223d7fef-53f6-4045-a161-3814eccf4212"
      },
      "source": [
        "# Python program to illustrate destructor\n",
        "class Employee:\n",
        "  \n",
        "    # Initializing\n",
        "    def __init__(self):\n",
        "        print('Employee created.')\n",
        "  \n",
        "    # Deleting (Calling destructor)\n",
        "    def __del__(self):\n",
        "        print('Destructor called, Employee deleted.')\n",
        "  \n",
        "obj = Employee()\n",
        "del obj"
      ],
      "execution_count": null,
      "outputs": [
        {
          "output_type": "stream",
          "text": [
            "Employee created.\n",
            "Destructor called, Employee deleted.\n"
          ],
          "name": "stdout"
        }
      ]
    },
    {
      "cell_type": "markdown",
      "metadata": {
        "id": "tcDnrfzoOov6"
      },
      "source": [
        "Garbage Collector: Because reference cycles take computational work to discover, garbage collection must be a scheduled activity. Python schedules garbage collection based upon a threshold of object allocations and object deallocations. When the number of allocations minus the number of deallocations is greater than the threshold number, the garbage collector is run.\n",
        "\n",
        "default threshold on the below system is 700."
      ]
    },
    {
      "cell_type": "code",
      "metadata": {
        "colab": {
          "base_uri": "https://localhost:8080/"
        },
        "id": "Q5AfWK5OL7G7",
        "outputId": "1d3093a2-2a2b-46f9-f239-79cc526a84dd"
      },
      "source": [
        "# loading gc\n",
        "import gc\n",
        "  \n",
        "# get the current collection \n",
        "# thresholds as a tuple\n",
        "print(\"Garbage collection thresholds:\",\n",
        "                    gc.get_threshold())"
      ],
      "execution_count": null,
      "outputs": [
        {
          "output_type": "stream",
          "text": [
            "Garbage collection thresholds: (700, 10, 10)\n"
          ],
          "name": "stdout"
        }
      ]
    },
    {
      "cell_type": "markdown",
      "metadata": {
        "id": "gD_lRzx9yKw_"
      },
      "source": [
        "Exception handeling: raise statement allows the programmer to force a specific exception to occur."
      ]
    },
    {
      "cell_type": "code",
      "metadata": {
        "colab": {
          "base_uri": "https://localhost:8080/",
          "height": 248
        },
        "id": "PD5sIqvOPDG6",
        "outputId": "347c3409-b877-4544-9170-6e97a9129cde"
      },
      "source": [
        "# Program to depict Raising Exception\n",
        "  \n",
        "try:\n",
        "  raise NameError(\"Hi there\")  # Raise Error\n",
        "except NameError:\n",
        "  print(\"An exception\")\n",
        "  raise  # To determine whether the exception was raised or not"
      ],
      "execution_count": null,
      "outputs": [
        {
          "output_type": "stream",
          "text": [
            "An exception\n"
          ],
          "name": "stdout"
        },
        {
          "output_type": "error",
          "ename": "NameError",
          "evalue": "ignored",
          "traceback": [
            "\u001b[0;31m---------------------------------------------------------------------------\u001b[0m",
            "\u001b[0;31mNameError\u001b[0m                                 Traceback (most recent call last)",
            "\u001b[0;32m<ipython-input-4-082af0180347>\u001b[0m in \u001b[0;36m<module>\u001b[0;34m()\u001b[0m\n\u001b[1;32m      2\u001b[0m \u001b[0;34m\u001b[0m\u001b[0m\n\u001b[1;32m      3\u001b[0m \u001b[0;32mtry\u001b[0m\u001b[0;34m:\u001b[0m\u001b[0;34m\u001b[0m\u001b[0;34m\u001b[0m\u001b[0m\n\u001b[0;32m----> 4\u001b[0;31m   \u001b[0;32mraise\u001b[0m \u001b[0mNameError\u001b[0m\u001b[0;34m(\u001b[0m\u001b[0;34m\"Hi there\"\u001b[0m\u001b[0;34m)\u001b[0m  \u001b[0;31m# Raise Error\u001b[0m\u001b[0;34m\u001b[0m\u001b[0;34m\u001b[0m\u001b[0m\n\u001b[0m\u001b[1;32m      5\u001b[0m \u001b[0;32mexcept\u001b[0m \u001b[0mNameError\u001b[0m\u001b[0;34m:\u001b[0m\u001b[0;34m\u001b[0m\u001b[0;34m\u001b[0m\u001b[0m\n\u001b[1;32m      6\u001b[0m   \u001b[0mprint\u001b[0m\u001b[0;34m(\u001b[0m\u001b[0;34m\"An exception\"\u001b[0m\u001b[0;34m)\u001b[0m\u001b[0;34m\u001b[0m\u001b[0;34m\u001b[0m\u001b[0m\n",
            "\u001b[0;31mNameError\u001b[0m: Hi there"
          ]
        }
      ]
    },
    {
      "cell_type": "markdown",
      "metadata": {
        "id": "nSbZCqbE2NTk"
      },
      "source": [
        "We can use else if try blok would raise an error the else block would also not execute."
      ]
    },
    {
      "cell_type": "code",
      "metadata": {
        "colab": {
          "base_uri": "https://localhost:8080/"
        },
        "id": "BRok25EyyWpu",
        "outputId": "ed3314d4-fc81-4e5e-ecc6-80f0b77ceb62"
      },
      "source": [
        "try:  \n",
        "    a = 10/0  \n",
        "    print (a)\n",
        "except ArithmeticError:  \n",
        "        print (\"This statement is raising an arithmetic exception.\")\n",
        "else:  \n",
        "    print (\"Success.\")"
      ],
      "execution_count": null,
      "outputs": [
        {
          "output_type": "stream",
          "text": [
            "This statement is raising an arithmetic exception.\n"
          ],
          "name": "stdout"
        }
      ]
    },
    {
      "cell_type": "markdown",
      "metadata": {
        "id": "nlExcnYn3X3k"
      },
      "source": [
        "Some exceptiones:\n",
        "1. exception AssertionError\n",
        "\n",
        "2. exception AttributeError\n",
        "\n",
        "3. exception EOFError\n",
        "\n",
        "4. exception FloatingPointError\n",
        "\n",
        "5. exception GeneratorExit\n",
        "\n",
        "6. exception ImportError\n",
        "\n",
        "7. exception ModuleNotFoundError\n",
        "\n",
        "8. exception IndexError(list)\n",
        "\n",
        "9. exception KeyError(dictionary)\n",
        "\n",
        "10. exception KeyError(whe you interrupt process from keyboard)\n",
        "\n",
        "11. exception MemoryError( operation runs out of memory)\n",
        "\n",
        "13. exception NameError\n",
        "\n",
        "14. exception NotImplementedError\n",
        "\n",
        "15. exception OSError([arg])(OSError exception is raised when a system function returns a system-related error, including I/O failures such as “file not found” or “disk full” errors.)\n",
        "\n",
        "16. exception OverflowError(OverflowError is raised when the result of an arithmetic operation is out of range.)\n",
        "\n",
        "17. exception RecursionError(RecursionError is derived from the RuntimeError. This exception is raised when the interpreter detects that the maximum recursion depth is exceeded.)\n",
        "\n",
        "18. exception ReferenceError(ReferenceError is raised when a weak reference proxy is used to access an attribute of the referent after the garbage collection.)\n",
        "\n",
        "17. exception RuntimeError(RuntimeError is raised when no other exception applies)\n",
        "\n",
        "18. exception StopIteration\n",
        "\n",
        "19. exception SyntaxError\n",
        "\n",
        "21. exception SystemError\n",
        "\n",
        "22. exception SystemExit\n",
        "\n",
        "23. exception TypeError\n",
        "\n",
        "24. exception UnboundLocalError\n",
        "\n",
        "25. exception UnicodeError\n",
        "\n",
        "26. exception ValueError\n",
        "\n",
        "27. exception ZeroDivisionError"
      ]
    },
    {
      "cell_type": "markdown",
      "metadata": {
        "id": "DdNTqH7qBZk9"
      },
      "source": [
        "**Python Collections**\n",
        "\n",
        "Counter: Counter is a container included in the collections module. Containers are objects that hold objects. They provide a way to access the contained objects and iterate over them. A Counter is a subclass of dict. Examples of built in containers are Tuple, list, and dictionary. Others are included in Collections module.\n",
        "\n"
      ]
    },
    {
      "cell_type": "code",
      "metadata": {
        "id": "7pbwY_XY2IPG",
        "colab": {
          "base_uri": "https://localhost:8080/"
        },
        "outputId": "cc562c77-8e33-47d2-def4-9cae1a190c70"
      },
      "source": [
        "# A Python program to show different ways to create\n",
        "# Counter\n",
        "from collections import Counter\n",
        "  \n",
        "# With sequence of items \n",
        "print(Counter(['B','B','A','B','C','A','B','B','A','C']))\n",
        "  \n",
        "# with dictionary\n",
        "print(Counter({'A':3, 'B':5, 'C':2}))\n",
        "  \n",
        "# with keyword arguments\n",
        "print(Counter(A=3, B=5, C=2))\n",
        "\n",
        "#################update the counter#################\n",
        "# A Python program to demonstrate update()\n",
        "from collections import Counter\n",
        "coun = Counter()\n",
        "  \n",
        "coun.update([1, 2, 3, 1, 2, 1, 1, 2])\n",
        "print(coun)\n",
        "  \n",
        "coun.update([1, 2, 4])\n",
        "print(coun)\n",
        "\n",
        "################### subtract the counter########################\n",
        "# Python program to demonstrate that counts in \n",
        "# Counter can be 0 and negative\n",
        "from collections import Counter\n",
        "  \n",
        "c1 = Counter(A=4,  B=3, C=10)\n",
        "c2 = Counter(A=10, B=3, C=4)\n",
        "  \n",
        "c1.subtract(c2)\n",
        "print(c1)"
      ],
      "execution_count": null,
      "outputs": [
        {
          "output_type": "stream",
          "text": [
            "Counter({'B': 5, 'A': 3, 'C': 2})\n",
            "Counter({'B': 5, 'A': 3, 'C': 2})\n",
            "Counter({'B': 5, 'A': 3, 'C': 2})\n",
            "Counter({1: 4, 2: 3, 3: 1})\n",
            "Counter({1: 5, 2: 4, 3: 1, 4: 1})\n",
            "Counter({'C': 6, 'B': 0, 'A': -6})\n"
          ],
          "name": "stdout"
        }
      ]
    },
    {
      "cell_type": "markdown",
      "metadata": {
        "id": "gqX8woTDIv40"
      },
      "source": [
        "**OrderedDict** : An OrderedDict is a dictionary subclass that remembers the order that keys were first inserted. The only difference between dict() and OrderedDict() is that:\n",
        "\n",
        "OrderedDict preserves the order in which the keys are inserted. A regular dict doesn’t track the insertion order\n",
        "\n",
        "NOTE: In python3, insertion order of Python dictionaries is guaranteed. Ordered Dict can be used as a stack with the help of popitem function."
      ]
    },
    {
      "cell_type": "code",
      "metadata": {
        "colab": {
          "base_uri": "https://localhost:8080/"
        },
        "id": "_J8HZDUkG-Il",
        "outputId": "41ec5d41-e393-4e1b-b968-487e34777c95"
      },
      "source": [
        "# A Python program to demonstrate working of OrderedDict\n",
        "from collections import OrderedDict\n",
        "  \n",
        "print(\"This is a Dict:\\n\")\n",
        "d = {}\n",
        "d['a'] = 1\n",
        "d['b'] = 2\n",
        "d['c'] = 3\n",
        "d['d'] = 4\n",
        "  \n",
        "for key, value in d.items():\n",
        "    print(key, value)\n",
        "  \n",
        "print(\"\\nThis is an Ordered Dict:\\n\")\n",
        "od = OrderedDict()\n",
        "od['a'] = 1\n",
        "od['b'] = 2\n",
        "od['c'] = 3\n",
        "od['d'] = 4\n",
        "  \n",
        "for key, value in od.items():\n",
        "    print(key, value)\n",
        "\n",
        "#################### After the value updation the order remains unchanged################\n",
        "# A Python program to demonstrate working of key \n",
        "# value change in OrderedDict\n",
        "from collections import OrderedDict\n",
        "  \n",
        "print(\"Before:\\n\")\n",
        "od = OrderedDict()\n",
        "od['a'] = 1\n",
        "od['b'] = 2\n",
        "od['c'] = 3\n",
        "od['d'] = 4\n",
        "for key, value in od.items():\n",
        "    print(key, value)\n",
        "  \n",
        "print(\"\\nAfter:\\n\")\n",
        "od['c'] = 5\n",
        "for key, value in od.items():\n",
        "    print(key, value)"
      ],
      "execution_count": null,
      "outputs": [
        {
          "output_type": "stream",
          "text": [
            "This is a Dict:\n",
            "\n",
            "a 1\n",
            "b 2\n",
            "c 3\n",
            "d 4\n",
            "\n",
            "This is an Ordered Dict:\n",
            "\n",
            "a 1\n",
            "b 2\n",
            "c 3\n",
            "d 4\n",
            "Before:\n",
            "\n",
            "a 1\n",
            "b 2\n",
            "c 3\n",
            "d 4\n",
            "\n",
            "After:\n",
            "\n",
            "a 1\n",
            "b 2\n",
            "c 5\n",
            "d 4\n"
          ],
          "name": "stdout"
        }
      ]
    },
    {
      "cell_type": "markdown",
      "metadata": {
        "id": "4c-BZh4aOMEH"
      },
      "source": [
        "Defaultdict is a sub-class of the dict class that returns a dictionary-like object. The functionality of both dictionaries and defualtdict are almost same except for the fact that defualtdict never raises a KeyError. It provides a default value for the key that does not exists."
      ]
    },
    {
      "cell_type": "code",
      "metadata": {
        "colab": {
          "base_uri": "https://localhost:8080/"
        },
        "id": "ikY_FeWlI5Hu",
        "outputId": "9db3aebd-b411-43ca-dd6b-f07ec6b3b8fe"
      },
      "source": [
        "# Python program to demonstrate\n",
        "# defaultdict\n",
        "  \n",
        "  \n",
        "from collections import defaultdict\n",
        "  \n",
        "  \n",
        "# Function to return a default\n",
        "# values for keys that is not\n",
        "# present\n",
        "def def_value():\n",
        "    return \"Not Present\"\n",
        "      \n",
        "# Defining the dict\n",
        "d = defaultdict(def_value)\n",
        "d[\"a\"] = 1\n",
        "d[\"b\"] = 2\n",
        "  \n",
        "print(d[\"a\"])\n",
        "print(d[\"b\"])\n",
        "print(d[\"c\"])"
      ],
      "execution_count": null,
      "outputs": [
        {
          "output_type": "stream",
          "text": [
            "1\n",
            "2\n",
            "Not Present\n"
          ],
          "name": "stdout"
        }
      ]
    },
    {
      "cell_type": "markdown",
      "metadata": {
        "id": "z8bhZ_VIPiFH"
      },
      "source": [
        "**ChainMap** : Python contains a container called “ChainMap” which encapsulates many dictionaries into one unit. ChainMap is member of module “collections“."
      ]
    },
    {
      "cell_type": "code",
      "metadata": {
        "colab": {
          "base_uri": "https://localhost:8080/"
        },
        "id": "smYwONFOOQgh",
        "outputId": "4dbc4d2d-ad16-4bba-a1e8-deff414e0e10"
      },
      "source": [
        "# Python program to demonstrate  \n",
        "# ChainMap  \n",
        "       \n",
        "       \n",
        "from collections import ChainMap  \n",
        "       \n",
        "       \n",
        "d1 = {'a': 1, 'b': 2} \n",
        "d2 = {'c': 3, 'd': 4} \n",
        "d3 = {'e': 5, 'f': 6} \n",
        "    \n",
        "# Defining the chainmap  \n",
        "c = ChainMap(d1, d2, d3)  \n",
        "       \n",
        "print(c)\n",
        "\n",
        "########################################################\n",
        "# importing collections for ChainMap operations\n",
        "import collections\n",
        "  \n",
        "# initializing dictionaries\n",
        "dic1 = { 'a' : 1, 'b' : 2 }\n",
        "dic2 = { 'b' : 3, 'c' : 4 }\n",
        "  \n",
        "# initializing ChainMap\n",
        "chain = collections.ChainMap(dic1, dic2)\n",
        "  \n",
        "# printing chainMap using maps\n",
        "print (\"All the ChainMap contents are : \")\n",
        "print (chain.maps)\n",
        "  \n",
        "# printing keys using keys()\n",
        "print (\"All keys of ChainMap are : \")\n",
        "print (list(chain.keys()))\n",
        "  \n",
        "# printing keys using keys()\n",
        "print (\"All values of ChainMap are : \")\n",
        "print (list(chain.values()))"
      ],
      "execution_count": null,
      "outputs": [
        {
          "output_type": "stream",
          "text": [
            "ChainMap({'a': 1, 'b': 2}, {'c': 3, 'd': 4}, {'e': 5, 'f': 6})\n",
            "All the ChainMap contents are : \n",
            "[{'a': 1, 'b': 2}, {'b': 3, 'c': 4}]\n",
            "All keys of ChainMap are : \n",
            "['b', 'c', 'a']\n",
            "All values of ChainMap are : \n",
            "[2, 4, 1]\n"
          ],
          "name": "stdout"
        }
      ]
    },
    {
      "cell_type": "markdown",
      "metadata": {
        "id": "gIqwEprJRVA_"
      },
      "source": [
        "namedtuple : Python supports a type of container like dictionaries called “namedtuple()” present in module, “collections“. Like dictionaries they contain keys that are hashed to a particular value."
      ]
    },
    {
      "cell_type": "code",
      "metadata": {
        "colab": {
          "base_uri": "https://localhost:8080/"
        },
        "id": "P8-siMFFPoux",
        "outputId": "069e5e2b-f7a0-4647-8d76-bcf60d3fb78c"
      },
      "source": [
        "# Python code to demonstrate namedtuple() \n",
        "      \n",
        "from collections import namedtuple \n",
        "      \n",
        "# Declaring namedtuple()  \n",
        "Student = namedtuple('Student',['name','age','DOB'])  \n",
        "      \n",
        "# Adding values  \n",
        "S = Student('Nandini','19','2541997')  \n",
        "      \n",
        "# Access using index  \n",
        "print (\"The Student age using index is : \",end =\"\")  \n",
        "print (S[1])  \n",
        "      \n",
        "# Access using name   \n",
        "print (\"The Student name using keyname is : \",end =\"\")  \n",
        "print (S.name)\n",
        "\n",
        "#######################################################################################\n",
        "# importing \"collections\" for namedtuple()\n",
        "import collections\n",
        "  \n",
        "# Declaring namedtuple()\n",
        "Student = collections.namedtuple('Student',['name','age','DOB'])\n",
        "  \n",
        "# Adding values\n",
        "S = Student('Nandini','19','2541997')\n",
        "  \n",
        "# initializing iterable \n",
        "li = ['Manjeet', '19', '411997' ]\n",
        "  \n",
        "# initializing dict\n",
        "di = { 'name' : \"Nikhil\", 'age' : 19 , 'DOB' : '1391997' }\n",
        "  \n",
        "# using _make() to return namedtuple()\n",
        "print (\"The namedtuple instance using iterable is  : \")\n",
        "print (Student._make(li))\n",
        "  \n",
        "# using _asdict() to return an OrderedDict()\n",
        "print (\"The OrderedDict instance using namedtuple is  : \")\n",
        "print (S._asdict())\n",
        "  \n",
        "# using ** operator to return namedtuple from dictionary\n",
        "print (\"The namedtuple instance from dict is  : \")\n",
        "print (Student(**di))"
      ],
      "execution_count": null,
      "outputs": [
        {
          "output_type": "stream",
          "text": [
            "The Student age using index is : 19\n",
            "The Student name using keyname is : Nandini\n",
            "The namedtuple instance using iterable is  : \n",
            "Student(name='Manjeet', age='19', DOB='411997')\n",
            "The OrderedDict instance using namedtuple is  : \n",
            "OrderedDict([('name', 'Nandini'), ('age', '19'), ('DOB', '2541997')])\n",
            "The namedtuple instance from dict is  : \n",
            "Student(name='Nikhil', age=19, DOB='1391997')\n"
          ],
          "name": "stdout"
        }
      ]
    },
    {
      "cell_type": "markdown",
      "metadata": {
        "id": "mAPgbBb3WCbc"
      },
      "source": [
        "**Deque** : Double ended queue is implemented in python using collections module. it is preferred over list when we need quicker and fast operations for append and pop from bothe the end, it providex o(1) complexity whereas list provids o(n) complexity."
      ]
    },
    {
      "cell_type": "code",
      "metadata": {
        "colab": {
          "base_uri": "https://localhost:8080/"
        },
        "id": "LEejF88SRcVi",
        "outputId": "acabe1ab-95c3-4367-b790-02c577e2d91e"
      },
      "source": [
        "from collections import deque \n",
        "      \n",
        "# Declaring deque \n",
        "queue = deque(['name','age','DOB'])  \n",
        "      \n",
        "print(queue)\n",
        "\n",
        "# operations\n",
        "demo = deque([1, 2, 3])\n",
        "demo.append(4)\n",
        "print(\"after appending:\", demo)\n",
        "\n",
        "demo.appendleft(0)\n",
        "print(\"after left appending:\", demo)\n",
        "\n",
        "demo.pop()\n",
        "print(\"after poping:\", demo)\n",
        "\n",
        "demo.popleft()\n",
        "print(\"after left pop operation:\", demo)\n",
        "\n",
        "demo.insert(3, 2)\n",
        "print(\"after inserting 2 at position 3:\", demo)\n",
        "\n",
        "demo.count(3)\n",
        "print(\"count total 3:\",demo.count(3))\n",
        "\n",
        "demo.remove(2)\n",
        "print(\"removing first occurence of 2:\", demo)\n",
        "\n",
        "demo.extend([7, 8,9])\n",
        "print(\"asdding multiple elements:\", demo)\n",
        "\n",
        "demo.extendleft([7, 8,9])\n",
        "print(\"asdding multiple elements from left side:\", demo)\n",
        "\n",
        "demo.rotate(-4)\n",
        "print(\"after rotating:\", demo)\n",
        "\n",
        "demo.reverse()\n",
        "print(\"after reversing:\", demo)"
      ],
      "execution_count": null,
      "outputs": [
        {
          "output_type": "stream",
          "text": [
            "deque(['name', 'age', 'DOB'])\n",
            "after appending: deque([1, 2, 3, 4])\n",
            "after left appending: deque([0, 1, 2, 3, 4])\n",
            "after poping: deque([0, 1, 2, 3])\n",
            "after left pop operation: deque([1, 2, 3])\n",
            "after inserting 2 at position 3: deque([1, 2, 3, 2])\n",
            "count total 3: 1\n",
            "removing first occurence of 2: deque([1, 3, 2])\n",
            "asdding multiple elements: deque([1, 3, 2, 7, 8, 9])\n",
            "asdding multiple elements from left side: deque([9, 8, 7, 1, 3, 2, 7, 8, 9])\n",
            "after rotating: deque([3, 2, 7, 8, 9, 9, 8, 7, 1])\n",
            "after reversing: deque([1, 7, 8, 9, 9, 8, 7, 2, 3])\n"
          ],
          "name": "stdout"
        }
      ]
    },
    {
      "cell_type": "markdown",
      "metadata": {
        "id": "GX9BAoNC4AfX"
      },
      "source": [
        "**Heap:**  it is use din python as heapq. it always stored elements in sorted order. The property of this data structure in Python is that each time the smallest of heap element is popped(min heap). Whenever elements are pushed or popped, heap structure in maintained."
      ]
    },
    {
      "cell_type": "code",
      "metadata": {
        "colab": {
          "base_uri": "https://localhost:8080/"
        },
        "id": "q1atxUDcXOZv",
        "outputId": "8a8d9ee9-843c-4d8f-9c19-6d70060b2b15"
      },
      "source": [
        "import heapq\n",
        "\n",
        "temp = [3, 1, 5, 2, 6, 4]\n",
        "heapq.heapify(temp)\n",
        "print(\"heapify function:\", temp)\n",
        "\n",
        "heapq.heappush(temp, 1)#adjusted heap maintained the heap structure\n",
        "print(\"after pushing 1:\", temp)\n",
        "\n",
        "heapq.heappop(temp)#always remove smallest element\n",
        "print(\"after popping 5:\", temp)\n",
        "\n",
        "heapq.heappushpop(temp, 6)\n",
        "print(\"after heappushpop:\", temp)\n",
        "\n",
        "heapq.heapreplace(temp, 3)\n",
        "print(\"after replacing:\", temp)\n",
        "\n",
        "print(\"for n largest number from the heap:\", heapq.nlargest(3, temp))\n",
        "print(\"for n smallest number from the heap:\", heapq.nsmallest(3, temp))"
      ],
      "execution_count": null,
      "outputs": [
        {
          "output_type": "stream",
          "text": [
            "heapify function: [1, 2, 4, 3, 6, 5]\n",
            "after pushing 1: [1, 2, 1, 3, 6, 5, 4]\n",
            "after popping 5: [1, 2, 4, 3, 6, 5]\n",
            "after heappushpop: [2, 3, 4, 6, 6, 5]\n",
            "after replacing: [3, 3, 4, 6, 6, 5]\n",
            "for n largest number from the heap: [6, 6, 5]\n",
            "for n smallest number from the heap: [3, 3, 4]\n"
          ],
          "name": "stdout"
        }
      ]
    },
    {
      "cell_type": "markdown",
      "metadata": {
        "id": "GS-cbKMaHNzc"
      },
      "source": [
        "Few Practcices:"
      ]
    },
    {
      "cell_type": "code",
      "metadata": {
        "colab": {
          "base_uri": "https://localhost:8080/"
        },
        "id": "df7jmJgG4ypT",
        "outputId": "854e245d-426b-4e1b-aefe-83bf5e4fb9aa"
      },
      "source": [
        "a = \"pythonlearner\"\n",
        "print(\"Reverse is\", a[::-1])# to reverse the string\n",
        "\n",
        "a = [\"How\", \"are\", \"you\"]\n",
        "print(\" \".join(a))# join elemenst of list\n",
        "\n",
        "\n",
        "n = 5\n",
        "result = 1 < n < 10\n",
        "print(result)\n",
        "\n",
        "#max frequent value in list\n",
        "test = [1, 2, 3, 4, 2, 2, 3, 1, 4, 4, 4]\n",
        "print(max(set(test), key = test.count))\n",
        "\n",
        "#get the memory size of the object\n",
        "import sys\n",
        "x = 2\n",
        "print(sys.getsizeof(x))\n",
        "\n",
        "#to check the word anagrams\n",
        "def is_anagram(str1, str2): \n",
        "    return sorted(str1) == sorted(str2) \n",
        "  \n",
        "print(is_anagram('geek', 'eegk'))\n",
        "print(is_anagram('geek', 'peek')) \n",
        "\n",
        "#printing more than two list simultaneously\n",
        "list1 = [1, 3, 5, 7]\n",
        "list2 = [2, 4, 6, 8]\n",
        "  \n",
        "# Here zip() function takes two equal length list and merges them\n",
        "# together in pairs\n",
        "for a, b in zip(list1,list2):\n",
        "    print (a, b)\n",
        "#take input in form a list\n",
        "formatted_list = list(map(int, input().split()))\n",
        "print(formatted_list)"
      ],
      "execution_count": null,
      "outputs": [
        {
          "output_type": "stream",
          "text": [
            "Reverse is renraelnohtyp\n",
            "How are you\n",
            "True\n",
            "4\n",
            "28\n",
            "True\n",
            "False\n",
            "1 2\n",
            "3 4\n",
            "5 6\n",
            "7 8\n",
            "7 8 3 9 \n",
            "[7, 8, 3, 9]\n"
          ],
          "name": "stdout"
        }
      ]
    },
    {
      "cell_type": "markdown",
      "metadata": {
        "id": "Y3njqJ3ET-sQ"
      },
      "source": [
        "Otimization Tips for Python:\n",
        "1. Use builtin functions and libraries\n",
        "2. Use deque if applicable\n",
        "3. Optimizing loops\n",
        "4. use xrange instead of range\n",
        "5. use python multiple assignments to swap variable\n",
        "6. Use local variable if possible\n",
        "7. import * is bad practice"
      ]
    },
    {
      "cell_type": "code",
      "metadata": {
        "colab": {
          "base_uri": "https://localhost:8080/"
        },
        "id": "e02f0JgmTf9X",
        "outputId": "2eb683c2-43a5-4a9d-a176-39eecf2d14b3"
      },
      "source": [
        "# Python program to illustrate using\n",
        "# optimized loops for faster coding\n",
        "  \n",
        "# slow O(n^2) - ( Note: In latest implementations it is O(n) )\n",
        "s = 'hellogeeks'\n",
        "slist = ''\n",
        "for i in s:\n",
        "    slist = slist + i\n",
        "print (slist)\n",
        "      \n",
        "# string concatenation (idiomatic and fast O(n))\n",
        "st = 'hellogeeks'\n",
        "slist = ''.join([i for i in s])\n",
        "print (slist)\n",
        "  \n",
        "# Better way to iterate a range\n",
        "evens = [ i for i in range(10) if i%2 == 0]\n",
        "print (evens)\n",
        "  \n",
        "# Python program to illustrate trying\n",
        "# multiple coding approaches \n",
        "# for getting faster result\n",
        "# slower\n",
        "mydict = {'g':1,'e':1,'e':1,'k':1}\n",
        "word = 'geeksforgeeks'\n",
        "for w in word:\n",
        "    if w not in mydict:\n",
        "        mydict[w] = 0\n",
        "    mydict[w] += 1\n",
        "print (mydict)\n",
        "  \n",
        "# faster\n",
        "mydict = {'g':1,'e':1,'e':1,'k':1}\n",
        "word = 'geeksforgeeks'\n",
        "for w in word:\n",
        "    try:\n",
        "        mydict[w] += 1\n",
        "    except KeyError:\n",
        "        mydict[w] = 1\n",
        "print (mydict)\n",
        "\n",
        "x,y = 3,5\n",
        "# faster\n",
        "x, y = y, x\n",
        "print (x,y)\n",
        "\n",
        "stocks = {\n",
        "    'Goog' : 520.54,\n",
        "    'FB' : 76.45,\n",
        "    'yhoo' : 39.28,\n",
        "    'AMZN' : 306.21,\n",
        "    'APPL' : 99.76\n",
        "    }\n",
        "\n",
        "#sorting according to values  \n",
        "zipped_1 = zip(stocks.values(), stocks.keys())\n",
        "  \n",
        "# sorting according to values\n",
        "print(sorted(zipped_1))\n",
        "\n",
        "#sorting according to keys  \n",
        "zipped_2 = zip(stocks.keys(), stocks.values())\n",
        "print(sorted(zipped_2))\n"
      ],
      "execution_count": 1,
      "outputs": [
        {
          "output_type": "stream",
          "text": [
            "hellogeeks\n",
            "hellogeeks\n",
            "[0, 2, 4, 6, 8]\n",
            "{'g': 3, 'e': 5, 'k': 3, 's': 2, 'f': 1, 'o': 1, 'r': 1}\n",
            "{'g': 3, 'e': 5, 'k': 3, 's': 2, 'f': 1, 'o': 1, 'r': 1}\n",
            "5 3\n",
            "[(39.28, 'yhoo'), (76.45, 'FB'), (99.76, 'APPL'), (306.21, 'AMZN'), (520.54, 'Goog')]\n",
            "[('AMZN', 306.21), ('APPL', 99.76), ('FB', 76.45), ('Goog', 520.54), ('yhoo', 39.28)]\n"
          ],
          "name": "stdout"
        }
      ]
    },
    {
      "cell_type": "code",
      "metadata": {
        "id": "QlALKhFVU-IB"
      },
      "source": [
        ""
      ],
      "execution_count": null,
      "outputs": []
    }
  ]
}